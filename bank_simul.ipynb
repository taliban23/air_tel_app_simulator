{
 "cells": [
  {
   "cell_type": "code",
   "execution_count": 10,
   "id": "9c98b2a4-d784-4ed0-8000-9b9fea4986d2",
   "metadata": {},
   "outputs": [],
   "source": [
    "account=[]\n",
    "is_register=False\n",
    "is_Loan=False\n"
   ]
  },
  {
   "cell_type": "code",
   "execution_count": 11,
   "id": "42870101-e3e4-4fbb-9f8d-5d54231e5571",
   "metadata": {},
   "outputs": [],
   "source": [
    "def account():\n",
    "    if not account:\n",
    "       print(\"\\nYou don`t have an account\") \n",
    "       user_name=input(\"Create your User name: \")\n",
    "       email=input(\"Enter your email: \")\n",
    "       pin=input(\"Create strong pin: \")\n",
    "       account_number=int(input(\"Create your account number: \"))\n",
    "       is_register=True \n",
    "       account.append({user_name:\n",
    "          { \"username\":user_name,\n",
    "           \"email\":email,\n",
    "           \"pin\":pin,\n",
    "           \"account_number\":account_number,\n",
    "           \"is_register\":is_register,\n",
    "           \"is_loan\":is_Loan,\n",
    "           \"balance\":0,\n",
    "           \"loan\":0\n",
    "          }}\n",
    "       )\n",
    "       print(\"\\nWelCome to Our bank. Account created successfully\")  "
   ]
  },
  {
   "cell_type": "code",
   "execution_count": 1,
   "id": "8db899b5-0d0e-44cb-ad21-69e4c9ace5ea",
   "metadata": {},
   "outputs": [],
   "source": [
    "def make_loan():\n",
    "    loan_pack=[3500,6000,12500]\n",
    "    loan_int=[3000,6000,1000]\n",
    "    if account[user_name][\"is_register\"] and not account[\"is_Loan\"]:\n",
    "       if not account[\"is_Loan\"]:\n",
    "         while True:\n",
    "            print(\"\\n<<-------------CHOOSE-LOAN----------------->>\")\n",
    "            print(\"\\n1.family Pack : $ 3000 -- Interest: $ 500\")\n",
    "            print(\"\\n2.Premium Pack : $ 5000 -- Interest: $ 1000\")\n",
    "            print(\"\\n3.Excuetive : $ 10,000 -- Interest: $ 2500\")\n",
    "            print(\"\\n0.Back to menu\")\n",
    "            option=input(\"\\nEnter your option: \")\n",
    "   \n",
    "            if option == \"1\":\n",
    "                account[\"loan\"]+=loan_pack[-3]\n",
    "                account[\"balance\"]+=loan_int[-3]\n",
    "                account[\"is_loan\"]=True\n",
    "                \n",
    "            elif option == \"2\":\n",
    "                account[\"loan\"]+=loan_pack[-2]\n",
    "                account[\"balance\"]+=loan_int[-2]\n",
    "                account[\"is_loan\"]=True\n",
    "                \n",
    "            elif option == \"3\":\n",
    "                account[\"loan\"]+=loan_pack[-1]\n",
    "                account[\"balance\"]+=loan_int[-1]\n",
    "                account[\"is_loan\"]=True\n",
    "                \n",
    "            elif option == \"0\":\n",
    "                break   \n",
    "            else:\n",
    "                print(\"Invalid choice\")\n",
    "       else:\n",
    "         print(f\"Can't get another loan. {account['loan']} is still pending\")\n",
    "    else:\n",
    "       print(\"Login first to make a loan.\")"
   ]
  },
  {
   "cell_type": "code",
   "execution_count": 2,
   "id": "182ba63f-c0ee-4731-a94c-59d78c263058",
   "metadata": {},
   "outputs": [],
   "source": [
    "def deposit():\n",
    "    print(\"\\nDeposit must be greater that 100\")\n",
    "    amount=float(input(\"\\nEnter amount to deposit: \"))\n",
    "    if is_register and amount > 100:\n",
    "        account['balance']+=amount\n",
    "        \n",
    "        if account['is_Loan']:\n",
    "            account['balance']-=account[\"loan\"]\n",
    "            \n",
    "            if account[\"loan\"] == 0:\n",
    "                print(\"Your loan Has been payed\")\n",
    "                account[\"is_loan\"]=False\n",
    "                \n",
    "            else:\n",
    "                print(f\"\\nYour current balance is $ {account[\"balance\"]} and your {account[\"loan\"]} is pending\")\n",
    "                \n",
    "        print(f\"\\nDeposit successful.You deposited $ {amount}.Your current balance is $ {account[\"balance\"]}\")  \n",
    "        \n",
    "    else:\n",
    "        print(\"You are not registed\")"
   ]
  },
  {
   "cell_type": "code",
   "execution_count": null,
   "id": "f254d8cf-b626-4171-9669-a9049d11f6f4",
   "metadata": {},
   "outputs": [],
   "source": [
    "def send_money():\n",
    "    if account[\"username\"]:\n",
    "       print(\"\\n<<---------SEND-MONEY-TO-FREINDS------->>\")\n",
    "       varify=input(\"\\nEnter your pin to confirm its you: \")\n",
    "       if varify == account[user_name]\n",
    "    \n",
    "    "
   ]
  }
 ],
 "metadata": {
  "kernelspec": {
   "display_name": "Python 3 (ipykernel)",
   "language": "python",
   "name": "python3"
  },
  "language_info": {
   "codemirror_mode": {
    "name": "ipython",
    "version": 3
   },
   "file_extension": ".py",
   "mimetype": "text/x-python",
   "name": "python",
   "nbconvert_exporter": "python",
   "pygments_lexer": "ipython3",
   "version": "3.13.2"
  }
 },
 "nbformat": 4,
 "nbformat_minor": 5
}
